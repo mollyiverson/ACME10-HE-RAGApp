{
 "cells": [
  {
   "cell_type": "markdown",
   "metadata": {},
   "source": [
    "### Introduction to FAISS for Vector Search in Python\n"
   ]
  },
  {
   "cell_type": "markdown",
   "metadata": {},
   "source": [
    "#### What is FAISS?\n",
    "FAISS (Facebook AI Similarity Search) is an open-source library developed by Facebook AI Research for efficient similarity search and clustering of dense vectors. It is widely used in machine learning and information retrieval applications where you need to find similar items in a dataset, such as images or documents."
   ]
  },
  {
   "cell_type": "markdown",
   "metadata": {},
   "source": [
    "#### Prerequisites for Installing FAISS\n",
    "\n",
    "To use FAISS with Python, you need to install a few prerequisites:\n",
    "\n",
    "1. **Python 3.6 or later**\n",
    "2. **FAISS Installation**: FAISS can be installed via pip, but there are different versions based on whether you want GPU acceleration or just CPU-based computation.\n",
    "3. **Numpy**\n",
    "4. **Optional - CUDA**: If you want GPU acceleration.\n",
    "\n",
    "You can install FAISS via pip as follows:\n",
    "\n",
    "- For CPU only:\n",
    "  ```bash\n",
    "  pip install faiss-cpu\n",
    "  ```\n",
    "\n",
    "- For GPU support:\n",
    "  ```bash\n",
    "  pip install faiss-gpu"
   ]
  },
  {
   "cell_type": "markdown",
   "metadata": {},
   "source": [
    "#### Setting Up FAISS for Vector Search\n",
    "\n",
    "Let’s explore how to use FAISS for a simple vector search example in Python. We'll walk through creating a set of random vectors and performing a similarity search to find the closest matches.\n",
    "\n",
    "##### Step 1: Import Libraries"
   ]
  },
  {
   "cell_type": "code",
   "execution_count": 5,
   "metadata": {},
   "outputs": [],
   "source": [
    "import numpy as np\n",
    "import faiss"
   ]
  },
  {
   "cell_type": "markdown",
   "metadata": {},
   "source": [
    "##### Step 2: Create Data to Search Against\n",
    "\n",
    "Let's generate some random vectors to use as our dataset. We'll use Numpy to create vectors of a specific dimensionality."
   ]
  },
  {
   "cell_type": "code",
   "execution_count": 6,
   "metadata": {},
   "outputs": [],
   "source": [
    "dim = 128\n",
    "num_vectors = 1000\n",
    "dataset = np.random.random((num_vectors, dim)).astype('float32')"
   ]
  },
  {
   "cell_type": "markdown",
   "metadata": {},
   "source": [
    "##### Step 3: Build and Train the FAISS Index\n",
    "\n",
    "We need to create a FAISS index to store our dataset. Here, we'll use the `IndexFlatL2` index, which calculates the L2 (Euclidean) distance to find similar vectors."
   ]
  },
  {
   "cell_type": "code",
   "execution_count": 7,
   "metadata": {},
   "outputs": [
    {
     "name": "stdout",
     "output_type": "stream",
     "text": [
      "Number of vectors in the index: 1000\n"
     ]
    }
   ],
   "source": [
    "index = faiss.IndexFlatL2(dim)\n",
    "index.add(dataset) \n",
    "print(f\"Number of vectors in the index: {index.ntotal}\")"
   ]
  },
  {
   "cell_type": "markdown",
   "metadata": {},
   "source": [
    "##### Step 4: Perform a Similarity Search\n",
    "\n",
    "Now that we have our index, let's create a query vector and find its nearest neighbors."
   ]
  },
  {
   "cell_type": "code",
   "execution_count": 10,
   "metadata": {},
   "outputs": [
    {
     "name": "stdout",
     "output_type": "stream",
     "text": [
      "Indices of the ten nearest neighbors: [[898 930 496 406 145 266 546 984 205 237]]\n"
     ]
    }
   ],
   "source": [
    "query_vector = np.random.random((1, dim)).astype('float32')\n",
    "\n",
    "# Search the index for the 10 nearest neighbors\n",
    "k = 10\n",
    "_, indices = index.search(query_vector, k)\n",
    "print(\"Indices of the ten nearest neighbors:\", indices)"
   ]
  },
  {
   "cell_type": "markdown",
   "metadata": {},
   "source": [
    "The output will show the indices of the top ten vectors in the dataset that are closest to our query vector, based on the L2 distance.\n",
    "\n",
    "#### Embeddings with BERT -> FAISS\n",
    "This is the general idea\n",
    "```python\n",
    "index = faiss.IndexFlatL2(embeddings.shape[1])\n",
    "index.add(embeddings)\n",
    "print(f\"Number of vectors in the index: {index.ntotal}\")\n",
    "```\n",
    "\n",
    "```python\n",
    "# Generate an embedding for the query\n",
    "query = \"What is FAISS used for?\"\n",
    "query_inputs = tokenizer(query, return_tensors='pt')\n",
    "with torch.no_grad():\n",
    "    query_embedding = model(**query_inputs).last_hidden_state.mean(dim=1).numpy()\n",
    "\n",
    "# Search the index for the 5 most similar articles\n",
    "k = 5\n",
    "_, article_indices = index.search(query_embedding, k)\n",
    "print(\"Indices of the most relevant articles:\", article_indices)\n",
    "```\n",
    "\n",
    "#### Summary\n",
    "\n",
    "FAISS is a powerful tool for similarity search and is easy to set up using Python. With its support for both CPU and GPU, FAISS scales well for handling large datasets. In this example, we demonstrated how to create an index, add vectors, and perform a similarity search efficiently.\n",
    "\n",
    "To go further, you can experiment with different FAISS indices, such as `IndexIVFFlat` for faster searches on larger datasets or use GPU acceleration to handle millions of vectors.\n",
    "\n",
    "#### More Reading\n",
    "https://engineering.fb.com/2017/03/29/data-infrastructure/faiss-a-library-for-efficient-similarity-search/\n",
    "\n",
    "https://github.com/facebookresearch/faiss"
   ]
  }
 ],
 "metadata": {
  "kernelspec": {
   "display_name": "Python 3 (ipykernel)",
   "language": "python",
   "name": "python3"
  },
  "language_info": {
   "codemirror_mode": {
    "name": "ipython",
    "version": 3
   },
   "file_extension": ".py",
   "mimetype": "text/x-python",
   "name": "python",
   "nbconvert_exporter": "python",
   "pygments_lexer": "ipython3",
   "version": "3.9.6"
  }
 },
 "nbformat": 4,
 "nbformat_minor": 2
}
